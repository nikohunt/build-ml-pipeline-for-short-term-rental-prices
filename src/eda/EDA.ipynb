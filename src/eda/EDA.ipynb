{
 "cells": [
  {
   "cell_type": "markdown",
   "id": "f2af89ea",
   "metadata": {},
   "source": [
    "#### Short Term Rentals\n",
    "# Exporatory Data Analysis\n",
    "Nikolas Hunt\n",
    "\n",
    "[✉️](mailto:nikolashunt@protonmail.ch) | November 2022"
   ]
  },
  {
   "cell_type": "markdown",
   "id": "03e7459f",
   "metadata": {},
   "source": [
    "## Introduction"
   ]
  },
  {
   "cell_type": "markdown",
   "id": "f0c8d168",
   "metadata": {},
   "source": [
    "Our property management company rents rooms and properties for short terms on various platforms. Our business problem is that we want a more accurate estimation of a typical price for a given property based on the features of that property.\n",
    "\n",
    "Our company receives new data on properties in bulk every week. Our model to predict a property price will need retraining on that cadence, necessitating a retrainable pipeline on that cadence.\n",
    "\n",
    "In a real scenario, I would spend a great deal more time on this phase, uncovering insights about the dataset; here the project is meant to focus more on the pipeline build aspect of the project, so the exploration has a light touch.\n",
    "\n",
    "We will do some profiling of the data and produce an accompanying commentary, perform some data cleansing based on those observations, and log the code to [the Weights and Biases project](https://wandb.ai/nikohunt/nyc_airbnb?workspace=user-nikohunt)."
   ]
  },
  {
   "cell_type": "code",
   "execution_count": 1,
   "id": "8c328dac",
   "metadata": {},
   "outputs": [],
   "source": [
    "import wandb\n",
    "import pandas as pd\n",
    "import pandas_profiling"
   ]
  },
  {
   "cell_type": "markdown",
   "id": "dd28b560",
   "metadata": {},
   "source": [
    "## Weights and Biases Interaction"
   ]
  },
  {
   "cell_type": "markdown",
   "id": "187c2133",
   "metadata": {},
   "source": [
    "Here we login to Weights and Biases, ensuring we save the code of the run."
   ]
  },
  {
   "cell_type": "code",
   "execution_count": 2,
   "id": "8ed36eaa",
   "metadata": {},
   "outputs": [
    {
     "name": "stderr",
     "output_type": "stream",
     "text": [
      "\u001b[34m\u001b[1mwandb\u001b[0m: Currently logged in as: \u001b[33mnikohunt\u001b[0m (use `wandb login --relogin` to force relogin)\n",
      "\u001b[34m\u001b[1mwandb\u001b[0m: wandb version 0.13.5 is available!  To upgrade, please run:\n",
      "\u001b[34m\u001b[1mwandb\u001b[0m:  $ pip install wandb --upgrade\n"
     ]
    },
    {
     "data": {
      "text/html": [
       "\n",
       "                Tracking run with wandb version 0.10.31<br/>\n",
       "                Syncing run <strong style=\"color:#cdcd00\">devoted-firefly-61</strong> to <a href=\"https://wandb.ai\" target=\"_blank\">Weights & Biases</a> <a href=\"https://docs.wandb.com/integrations/jupyter.html\" target=\"_blank\">(Documentation)</a>.<br/>\n",
       "                Project page: <a href=\"https://wandb.ai/nikohunt/nyc_airbnb\" target=\"_blank\">https://wandb.ai/nikohunt/nyc_airbnb</a><br/>\n",
       "                Run page: <a href=\"https://wandb.ai/nikohunt/nyc_airbnb/runs/3j9h6ex3\" target=\"_blank\">https://wandb.ai/nikohunt/nyc_airbnb/runs/3j9h6ex3</a><br/>\n",
       "                Run data is saved locally in <code>/Users/Nikolas.Hunt/Source/build-ml-pipeline-for-short-term-rental-prices/src/eda/wandb/run-20221122_101842-3j9h6ex3</code><br/><br/>\n",
       "            "
      ],
      "text/plain": [
       "<IPython.core.display.HTML object>"
      ]
     },
     "metadata": {},
     "output_type": "display_data"
    }
   ],
   "source": [
    "run = wandb.init(project=\"nyc_airbnb\", group=\"eda\", save_code=True)"
   ]
  },
  {
   "cell_type": "markdown",
   "id": "f3b6d24d",
   "metadata": {},
   "source": [
    "Download our csv for analysis."
   ]
  },
  {
   "cell_type": "code",
   "execution_count": 3,
   "id": "7dc58dd2",
   "metadata": {},
   "outputs": [],
   "source": [
    "local_path = wandb.use_artifact(\"sample.csv:latest\").file()\n",
    "df = pd.read_csv(local_path)"
   ]
  },
  {
   "cell_type": "markdown",
   "id": "4958c303",
   "metadata": {},
   "source": [
    "## Profiling"
   ]
  },
  {
   "cell_type": "markdown",
   "id": "ebae8f2b",
   "metadata": {},
   "source": [
    "We use pandas profiling to understand the basic characteristics of our dataset."
   ]
  },
  {
   "cell_type": "code",
   "execution_count": 5,
   "id": "6e06e2d4",
   "metadata": {},
   "outputs": [
    {
     "data": {
      "application/vnd.jupyter.widget-view+json": {
       "model_id": "6782972694404636b11e294c746c722d",
       "version_major": 2,
       "version_minor": 0
      },
      "text/plain": [
       "Summarize dataset:   0%|          | 0/29 [00:00<?, ?it/s]"
      ]
     },
     "metadata": {},
     "output_type": "display_data"
    },
    {
     "data": {
      "application/vnd.jupyter.widget-view+json": {
       "model_id": "1769155870ec4a008da2d79430a730ad",
       "version_major": 2,
       "version_minor": 0
      },
      "text/plain": [
       "Generate report structure:   0%|          | 0/1 [00:00<?, ?it/s]"
      ]
     },
     "metadata": {},
     "output_type": "display_data"
    },
    {
     "data": {
      "application/vnd.jupyter.widget-view+json": {
       "model_id": "",
       "version_major": 2,
       "version_minor": 0
      },
      "text/plain": [
       "Render widgets:   0%|          | 0/1 [00:00<?, ?it/s]"
      ]
     },
     "metadata": {},
     "output_type": "display_data"
    },
    {
     "name": "stderr",
     "output_type": "stream",
     "text": [
      "IOPub message rate exceeded.\n",
      "The notebook server will temporarily stop sending output\n",
      "to the client in order to avoid crashing it.\n",
      "To change this limit, set the config variable\n",
      "`--NotebookApp.iopub_msg_rate_limit`.\n",
      "\n",
      "Current values:\n",
      "NotebookApp.iopub_msg_rate_limit=1000.0 (msgs/sec)\n",
      "NotebookApp.rate_limit_window=3.0 (secs)\n",
      "\n",
      "IOPub message rate exceeded.\n",
      "The notebook server will temporarily stop sending output\n",
      "to the client in order to avoid crashing it.\n",
      "To change this limit, set the config variable\n",
      "`--NotebookApp.iopub_msg_rate_limit`.\n",
      "\n",
      "Current values:\n",
      "NotebookApp.iopub_msg_rate_limit=1000.0 (msgs/sec)\n",
      "NotebookApp.rate_limit_window=3.0 (secs)\n",
      "\n"
     ]
    },
    {
     "data": {
      "application/vnd.jupyter.widget-view+json": {
       "model_id": "a4f5cc92a38045ffbcc442bd5a01cf65",
       "version_major": 2,
       "version_minor": 0
      },
      "text/plain": [
       "VBox(children=(Tab(children=(Tab(children=(GridBox(children=(VBox(children=(GridspecLayout(children=(HTML(valu…"
      ]
     },
     "metadata": {},
     "output_type": "display_data"
    }
   ],
   "source": [
    "profile = pandas_profiling.ProfileReport(df)\n",
    "profile.to_widgets()"
   ]
  },
  {
   "cell_type": "markdown",
   "id": "2de4fc27",
   "metadata": {},
   "source": [
    "## Observations"
   ]
  },
  {
   "cell_type": "markdown",
   "id": "6ada73a6",
   "metadata": {},
   "source": [
    "* Only four features contain nulls: name, host_name, last_review and reviews_per_month.\n",
    "* The features name and host_name have <0.1% nulls (16 and 21 respectively); last_review and reviews_per_month have a much greater frequency (20.6% each).\n",
    "* The feature name will benefit from text processing as it is natural language. Interestingly, beyond expected words that relate to property and accommodation structurally (e.g. \"room\"), the adjective \"cozy\" is the sixth most frequently occurring word. It would be an avenue of exploration to see if this, and other popular or interesting adjectives correlate to a higher price.\n",
    "* The feature last_review is a date but it is in string format.\n",
    "* The price feature is highly skewed, owing to some very high prices. Notably, there are 11 zeroes. Although these represent less than 0.1% of observations, these should be investigated."
   ]
  },
  {
   "cell_type": "markdown",
   "id": "4e7d7180",
   "metadata": {},
   "source": [
    "## Decisions"
   ]
  },
  {
   "cell_type": "markdown",
   "id": "2b98dab6",
   "metadata": {},
   "source": [
    "* After talking to stakeholders, we have taken the decision to consider from a minimum of $10 to a maximum of $350 per night.\n",
    "* Occurrences of zeroes in price needs following up with product owner.\n",
    "* The last_review feature should be converted to a datetime to aid manipulation and further analysis."
   ]
  },
  {
   "cell_type": "markdown",
   "id": "0d7c5bed",
   "metadata": {},
   "source": [
    "## Data Cleansing Implementation"
   ]
  },
  {
   "cell_type": "markdown",
   "id": "8f692c85",
   "metadata": {},
   "source": [
    "According to the Decisions, we drop outliers in price and perform a datetime conversion to the last_review field."
   ]
  },
  {
   "cell_type": "code",
   "execution_count": 7,
   "id": "8b7a4f8a",
   "metadata": {},
   "outputs": [],
   "source": [
    "# Drop outliers\n",
    "min_price = 10\n",
    "max_price = 350\n",
    "idx = df['price'].between(min_price, max_price)\n",
    "df = df[idx].copy()\n",
    "\n",
    "# Convert last_review to datetime\n",
    "df['last_review'] = pd.to_datetime(df['last_review'])"
   ]
  },
  {
   "cell_type": "markdown",
   "id": "0c8eb3f7",
   "metadata": {},
   "source": [
    "## Housekeeping"
   ]
  },
  {
   "cell_type": "markdown",
   "id": "69129b56",
   "metadata": {},
   "source": [
    "Only remains to finish the W&B run. \n",
    "\n",
    "**Please use Logout and Quit via the Jupyter Notebook UI to ensure that the W&B run finishes properly.**"
   ]
  },
  {
   "cell_type": "code",
   "execution_count": 8,
   "id": "78474700",
   "metadata": {},
   "outputs": [
    {
     "data": {
      "text/html": [
       "<br/>Waiting for W&B process to finish, PID 24405<br/>Program ended successfully."
      ],
      "text/plain": [
       "<IPython.core.display.HTML object>"
      ]
     },
     "metadata": {},
     "output_type": "display_data"
    },
    {
     "data": {
      "application/vnd.jupyter.widget-view+json": {
       "model_id": "",
       "version_major": 2,
       "version_minor": 0
      },
      "text/plain": [
       "VBox(children=(Label(value=' 0.12MB of 0.12MB uploaded (0.00MB deduped)\\r'), FloatProgress(value=1.0, max=1.0)…"
      ]
     },
     "metadata": {},
     "output_type": "display_data"
    },
    {
     "data": {
      "text/html": [
       "Find user logs for this run at: <code>/Users/Nikolas.Hunt/Source/build-ml-pipeline-for-short-term-rental-prices/src/eda/wandb/run-20221122_101842-3j9h6ex3/logs/debug.log</code>"
      ],
      "text/plain": [
       "<IPython.core.display.HTML object>"
      ]
     },
     "metadata": {},
     "output_type": "display_data"
    },
    {
     "data": {
      "text/html": [
       "Find internal logs for this run at: <code>/Users/Nikolas.Hunt/Source/build-ml-pipeline-for-short-term-rental-prices/src/eda/wandb/run-20221122_101842-3j9h6ex3/logs/debug-internal.log</code>"
      ],
      "text/plain": [
       "<IPython.core.display.HTML object>"
      ]
     },
     "metadata": {},
     "output_type": "display_data"
    },
    {
     "data": {
      "text/html": [
       "Synced 6 W&B file(s), 0 media file(s), 5 artifact file(s) and 1 other file(s)"
      ],
      "text/plain": [
       "<IPython.core.display.HTML object>"
      ]
     },
     "metadata": {},
     "output_type": "display_data"
    },
    {
     "data": {
      "text/html": [
       "\n",
       "                    <br/>Synced <strong style=\"color:#cdcd00\">devoted-firefly-61</strong>: <a href=\"https://wandb.ai/nikohunt/nyc_airbnb/runs/3j9h6ex3\" target=\"_blank\">https://wandb.ai/nikohunt/nyc_airbnb/runs/3j9h6ex3</a><br/>\n",
       "                "
      ],
      "text/plain": [
       "<IPython.core.display.HTML object>"
      ]
     },
     "metadata": {},
     "output_type": "display_data"
    }
   ],
   "source": [
    "run.finish()"
   ]
  },
  {
   "cell_type": "code",
   "execution_count": null,
   "id": "d75af5a2",
   "metadata": {},
   "outputs": [],
   "source": []
  }
 ],
 "metadata": {
  "kernelspec": {
   "display_name": "Python 3 (ipykernel)",
   "language": "python",
   "name": "python3"
  },
  "language_info": {
   "codemirror_mode": {
    "name": "ipython",
    "version": 3
   },
   "file_extension": ".py",
   "mimetype": "text/x-python",
   "name": "python",
   "nbconvert_exporter": "python",
   "pygments_lexer": "ipython3",
   "version": "3.9.13"
  },
  "vscode": {
   "interpreter": {
    "hash": "29748a2c79cad815c05f07db2941c607a338c2ba50c6de099ef91dbe8c38c4d9"
   }
  }
 },
 "nbformat": 4,
 "nbformat_minor": 5
}
